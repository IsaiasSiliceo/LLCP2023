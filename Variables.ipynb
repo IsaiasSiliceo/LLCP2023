{
 "cells": [
  {
   "cell_type": "code",
   "execution_count": 39,
   "metadata": {},
   "outputs": [],
   "source": [
    "import pandas as pd\n",
    "import numpy as np\n",
    "import plotly.express as px"
   ]
  },
  {
   "cell_type": "code",
   "execution_count": 40,
   "metadata": {},
   "outputs": [],
   "source": [
    "columns = pd.read_csv('/home/chay/LLCP2023ASC/variable_layout2023.dat',sep='\\t')\n",
    "\n",
    "# Calculate the File_Width column\n",
    "columns['File_Width'] = [\n",
    "    columns.loc[y + 1, 'StartingColumn'] - columns.loc[y, 'StartingColumn'] \n",
    "    if y < len(columns) - 1 else 1\n",
    "    for y in range(len(columns))\n",
    "]\n",
    "\n",
    "# Filter rows where File_Width > 0\n",
    "columns = columns[columns['File_Width'] > 0]"
   ]
  },
  {
   "cell_type": "code",
   "execution_count": 41,
   "metadata": {},
   "outputs": [],
   "source": [
    "responses = pd.read_fwf(\n",
    "    \"/home/chay/LLCP2023ASC/LLCP2023.ASC\", \n",
    "    widths=columns['File_Width'].tolist(), \n",
    "    names=columns['VariableName'].tolist()\n",
    ")"
   ]
  },
  {
   "cell_type": "code",
   "execution_count": 42,
   "metadata": {},
   "outputs": [
    {
     "data": {
      "text/html": [
       "<div>\n",
       "<style scoped>\n",
       "    .dataframe tbody tr th:only-of-type {\n",
       "        vertical-align: middle;\n",
       "    }\n",
       "\n",
       "    .dataframe tbody tr th {\n",
       "        vertical-align: top;\n",
       "    }\n",
       "\n",
       "    .dataframe thead th {\n",
       "        text-align: right;\n",
       "    }\n",
       "</style>\n",
       "<table border=\"1\" class=\"dataframe\">\n",
       "  <thead>\n",
       "    <tr style=\"text-align: right;\">\n",
       "      <th></th>\n",
       "      <th>_STATE</th>\n",
       "      <th>FMONTH</th>\n",
       "      <th>IMONTH</th>\n",
       "      <th>IDAY</th>\n",
       "      <th>IYEAR</th>\n",
       "      <th>DISPCODE</th>\n",
       "      <th>_PSU</th>\n",
       "      <th>CTELENM1</th>\n",
       "      <th>PVTRESD1</th>\n",
       "      <th>COLGHOUS</th>\n",
       "      <th>...</th>\n",
       "      <th>DROCDY4_</th>\n",
       "      <th>_RFBING6</th>\n",
       "      <th>_DRNKWK2</th>\n",
       "      <th>_RFDRHV8</th>\n",
       "      <th>_FLSHOT7</th>\n",
       "      <th>_PNEUMO3</th>\n",
       "      <th>_AIDTST4</th>\n",
       "      <th>_RFSEAT2</th>\n",
       "      <th>_RFSEAT3</th>\n",
       "      <th>_DRNKDRV</th>\n",
       "    </tr>\n",
       "  </thead>\n",
       "  <tbody>\n",
       "    <tr>\n",
       "      <th>0</th>\n",
       "      <td>1</td>\n",
       "      <td>1</td>\n",
       "      <td>3</td>\n",
       "      <td>1</td>\n",
       "      <td>2023</td>\n",
       "      <td>1100</td>\n",
       "      <td>2023000001</td>\n",
       "      <td>1.0</td>\n",
       "      <td>1.0</td>\n",
       "      <td>NaN</td>\n",
       "      <td>...</td>\n",
       "      <td>0</td>\n",
       "      <td>1</td>\n",
       "      <td>0</td>\n",
       "      <td>1</td>\n",
       "      <td>2.0</td>\n",
       "      <td>2.0</td>\n",
       "      <td>2.0</td>\n",
       "      <td>1</td>\n",
       "      <td>1</td>\n",
       "      <td>9</td>\n",
       "    </tr>\n",
       "    <tr>\n",
       "      <th>1</th>\n",
       "      <td>1</td>\n",
       "      <td>1</td>\n",
       "      <td>1</td>\n",
       "      <td>6</td>\n",
       "      <td>2023</td>\n",
       "      <td>1100</td>\n",
       "      <td>2023000002</td>\n",
       "      <td>1.0</td>\n",
       "      <td>1.0</td>\n",
       "      <td>NaN</td>\n",
       "      <td>...</td>\n",
       "      <td>0</td>\n",
       "      <td>1</td>\n",
       "      <td>0</td>\n",
       "      <td>1</td>\n",
       "      <td>1.0</td>\n",
       "      <td>1.0</td>\n",
       "      <td>2.0</td>\n",
       "      <td>1</td>\n",
       "      <td>1</td>\n",
       "      <td>9</td>\n",
       "    </tr>\n",
       "    <tr>\n",
       "      <th>2</th>\n",
       "      <td>1</td>\n",
       "      <td>1</td>\n",
       "      <td>3</td>\n",
       "      <td>8</td>\n",
       "      <td>2023</td>\n",
       "      <td>1100</td>\n",
       "      <td>2023000003</td>\n",
       "      <td>1.0</td>\n",
       "      <td>1.0</td>\n",
       "      <td>NaN</td>\n",
       "      <td>...</td>\n",
       "      <td>0</td>\n",
       "      <td>1</td>\n",
       "      <td>0</td>\n",
       "      <td>1</td>\n",
       "      <td>1.0</td>\n",
       "      <td>1.0</td>\n",
       "      <td>2.0</td>\n",
       "      <td>1</td>\n",
       "      <td>1</td>\n",
       "      <td>9</td>\n",
       "    </tr>\n",
       "    <tr>\n",
       "      <th>3</th>\n",
       "      <td>1</td>\n",
       "      <td>1</td>\n",
       "      <td>3</td>\n",
       "      <td>6</td>\n",
       "      <td>2023</td>\n",
       "      <td>1100</td>\n",
       "      <td>2023000004</td>\n",
       "      <td>1.0</td>\n",
       "      <td>1.0</td>\n",
       "      <td>NaN</td>\n",
       "      <td>...</td>\n",
       "      <td>0</td>\n",
       "      <td>1</td>\n",
       "      <td>0</td>\n",
       "      <td>1</td>\n",
       "      <td>1.0</td>\n",
       "      <td>1.0</td>\n",
       "      <td>1.0</td>\n",
       "      <td>1</td>\n",
       "      <td>1</td>\n",
       "      <td>9</td>\n",
       "    </tr>\n",
       "    <tr>\n",
       "      <th>4</th>\n",
       "      <td>1</td>\n",
       "      <td>1</td>\n",
       "      <td>1</td>\n",
       "      <td>6</td>\n",
       "      <td>2023</td>\n",
       "      <td>1100</td>\n",
       "      <td>2023000005</td>\n",
       "      <td>1.0</td>\n",
       "      <td>1.0</td>\n",
       "      <td>NaN</td>\n",
       "      <td>...</td>\n",
       "      <td>7</td>\n",
       "      <td>1</td>\n",
       "      <td>47</td>\n",
       "      <td>1</td>\n",
       "      <td>2.0</td>\n",
       "      <td>1.0</td>\n",
       "      <td>2.0</td>\n",
       "      <td>1</td>\n",
       "      <td>1</td>\n",
       "      <td>2</td>\n",
       "    </tr>\n",
       "  </tbody>\n",
       "</table>\n",
       "<p>5 rows × 348 columns</p>\n",
       "</div>"
      ],
      "text/plain": [
       "   _STATE   FMONTH   IMONTH   IDAY   IYEAR   DISPCODE        _PSU   CTELENM1   \\\n",
       "0        1        1        3      1    2023       1100  2023000001        1.0   \n",
       "1        1        1        1      6    2023       1100  2023000002        1.0   \n",
       "2        1        1        3      8    2023       1100  2023000003        1.0   \n",
       "3        1        1        3      6    2023       1100  2023000004        1.0   \n",
       "4        1        1        1      6    2023       1100  2023000005        1.0   \n",
       "\n",
       "   PVTRESD1   COLGHOUS   ...  DROCDY4_   _RFBING6   _DRNKWK2   _RFDRHV8   \\\n",
       "0        1.0        NaN  ...          0          1          0          1   \n",
       "1        1.0        NaN  ...          0          1          0          1   \n",
       "2        1.0        NaN  ...          0          1          0          1   \n",
       "3        1.0        NaN  ...          0          1          0          1   \n",
       "4        1.0        NaN  ...          7          1         47          1   \n",
       "\n",
       "   _FLSHOT7   _PNEUMO3   _AIDTST4   _RFSEAT2   _RFSEAT3   _DRNKDRV   \n",
       "0        2.0        2.0        2.0          1          1          9  \n",
       "1        1.0        1.0        2.0          1          1          9  \n",
       "2        1.0        1.0        2.0          1          1          9  \n",
       "3        1.0        1.0        1.0          1          1          9  \n",
       "4        2.0        1.0        2.0          1          1          2  \n",
       "\n",
       "[5 rows x 348 columns]"
      ]
     },
     "execution_count": 42,
     "metadata": {},
     "output_type": "execute_result"
    }
   ],
   "source": [
    "responses.head()"
   ]
  },
  {
   "cell_type": "markdown",
   "metadata": {},
   "source": [
    "## Record Identification"
   ]
  },
  {
   "cell_type": "code",
   "execution_count": 43,
   "metadata": {},
   "outputs": [
    {
     "name": "stdout",
     "output_type": "stream",
     "text": [
      "<class 'pandas.core.frame.DataFrame'>\n",
      "RangeIndex: 433323 entries, 0 to 433322\n",
      "Data columns (total 7 columns):\n",
      " #   Column     Non-Null Count   Dtype\n",
      "---  ------     --------------   -----\n",
      " 0   _STATE     433323 non-null  int64\n",
      " 1   FMONTH     433323 non-null  int64\n",
      " 2   IMONTH     433323 non-null  int64\n",
      " 3   IDAY       433323 non-null  int64\n",
      " 4   IYEAR      433323 non-null  int64\n",
      " 5   DISPCODE   433323 non-null  int64\n",
      " 6   _PSU       433323 non-null  int64\n",
      "dtypes: int64(7)\n",
      "memory usage: 23.1 MB\n"
     ]
    }
   ],
   "source": [
    "responses[responses.columns[:7]].info()"
   ]
  },
  {
   "cell_type": "markdown",
   "metadata": {},
   "source": [
    "## Land Line Introduction"
   ]
  },
  {
   "cell_type": "code",
   "execution_count": 45,
   "metadata": {},
   "outputs": [
    {
     "name": "stdout",
     "output_type": "stream",
     "text": [
      "<class 'pandas.core.frame.DataFrame'>\n",
      "RangeIndex: 433323 entries, 0 to 433322\n",
      "Data columns (total 10 columns):\n",
      " #   Column     Non-Null Count  Dtype  \n",
      "---  ------     --------------  -----  \n",
      " 0   CTELENM1   88345 non-null  float64\n",
      " 1   PVTRESD1   88345 non-null  float64\n",
      " 2   COLGHOUS   12 non-null     float64\n",
      " 3   STATERE1   88345 non-null  float64\n",
      " 4   CELPHON1   88346 non-null  float64\n",
      " 5   LADULT1    88345 non-null  float64\n",
      " 6   NUMADULT   88330 non-null  float64\n",
      " 7   RESPSLC1   52386 non-null  float64\n",
      " 8   LANDSEX2   70473 non-null  float64\n",
      " 9   LNDSXBRT   169 non-null    float64\n",
      "dtypes: float64(10)\n",
      "memory usage: 33.1 MB\n"
     ]
    }
   ],
   "source": [
    "responses[responses.columns[7:17]].info()"
   ]
  },
  {
   "cell_type": "markdown",
   "metadata": {},
   "source": [
    "## Cellphone Introduction"
   ]
  },
  {
   "cell_type": "code",
   "execution_count": 46,
   "metadata": {},
   "outputs": [
    {
     "name": "stdout",
     "output_type": "stream",
     "text": [
      "<class 'pandas.core.frame.DataFrame'>\n",
      "RangeIndex: 433323 entries, 0 to 433322\n",
      "Data columns (total 11 columns):\n",
      " #   Column     Non-Null Count   Dtype  \n",
      "---  ------     --------------   -----  \n",
      " 0   SAFETIME   344978 non-null  float64\n",
      " 1   CTELNUM1   344978 non-null  float64\n",
      " 2   CELLFON5   344978 non-null  float64\n",
      " 3   CADULT1    344978 non-null  float64\n",
      " 4   CELLSEX2   344976 non-null  float64\n",
      " 5   CELSXBRT   2578 non-null    float64\n",
      " 6   PVTRESD3   344978 non-null  float64\n",
      " 7   CCLGHOUS   1351 non-null    float64\n",
      " 8   CSTATE1    344968 non-null  float64\n",
      " 9   LANDLINE   344977 non-null  float64\n",
      " 10  HHADULT    344974 non-null  float64\n",
      "dtypes: float64(11)\n",
      "memory usage: 36.4 MB\n"
     ]
    }
   ],
   "source": [
    "responses[responses.columns[17:28]].info()"
   ]
  },
  {
   "cell_type": "markdown",
   "metadata": {},
   "source": [
    "## Respondent Sex"
   ]
  },
  {
   "cell_type": "code",
   "execution_count": 47,
   "metadata": {},
   "outputs": [
    {
     "name": "stdout",
     "output_type": "stream",
     "text": [
      "<class 'pandas.core.series.Series'>\n",
      "RangeIndex: 433323 entries, 0 to 433322\n",
      "Series name: SEXVAR \n",
      "Non-Null Count   Dtype\n",
      "--------------   -----\n",
      "433323 non-null  int64\n",
      "dtypes: int64(1)\n",
      "memory usage: 3.3 MB\n"
     ]
    }
   ],
   "source": [
    "responses[responses.columns[28]].info()"
   ]
  },
  {
   "cell_type": "markdown",
   "metadata": {},
   "source": [
    "## Health Status"
   ]
  },
  {
   "cell_type": "code",
   "execution_count": 48,
   "metadata": {},
   "outputs": [
    {
     "name": "stdout",
     "output_type": "stream",
     "text": [
      "<class 'pandas.core.series.Series'>\n",
      "RangeIndex: 433323 entries, 0 to 433322\n",
      "Series name: GENHLTH \n",
      "Non-Null Count   Dtype  \n",
      "--------------   -----  \n",
      "433319 non-null  float64\n",
      "dtypes: float64(1)\n",
      "memory usage: 3.3 MB\n"
     ]
    }
   ],
   "source": [
    "responses[responses.columns[29]].info()"
   ]
  },
  {
   "cell_type": "markdown",
   "metadata": {},
   "source": [
    "## Healthy Days"
   ]
  },
  {
   "cell_type": "code",
   "execution_count": 50,
   "metadata": {},
   "outputs": [
    {
     "name": "stdout",
     "output_type": "stream",
     "text": [
      "<class 'pandas.core.frame.DataFrame'>\n",
      "RangeIndex: 433323 entries, 0 to 433322\n",
      "Data columns (total 3 columns):\n",
      " #   Column     Non-Null Count   Dtype  \n",
      "---  ------     --------------   -----  \n",
      " 0   PHYSHLTH   433320 non-null  float64\n",
      " 1   MENTHLTH   433320 non-null  float64\n",
      " 2   POORHLTH   252170 non-null  float64\n",
      "dtypes: float64(3)\n",
      "memory usage: 9.9 MB\n"
     ]
    }
   ],
   "source": [
    "responses[responses.columns[30:33]].info()"
   ]
  },
  {
   "cell_type": "markdown",
   "metadata": {},
   "source": [
    "## Health Care Access"
   ]
  },
  {
   "cell_type": "code",
   "execution_count": 51,
   "metadata": {},
   "outputs": [
    {
     "name": "stdout",
     "output_type": "stream",
     "text": [
      "<class 'pandas.core.frame.DataFrame'>\n",
      "RangeIndex: 433323 entries, 0 to 433322\n",
      "Data columns (total 4 columns):\n",
      " #   Column     Non-Null Count   Dtype  \n",
      "---  ------     --------------   -----  \n",
      " 0   PRIMINS1   433318 non-null  float64\n",
      " 1   PERSDOC3   433320 non-null  float64\n",
      " 2   MEDCOST1   433321 non-null  float64\n",
      " 3   CHECKUP1   433321 non-null  float64\n",
      "dtypes: float64(4)\n",
      "memory usage: 13.2 MB\n"
     ]
    }
   ],
   "source": [
    "responses[responses.columns[33:37]].info()"
   ]
  },
  {
   "cell_type": "markdown",
   "metadata": {},
   "source": [
    "## Exercise (Physical Activity)"
   ]
  },
  {
   "cell_type": "code",
   "execution_count": 52,
   "metadata": {},
   "outputs": [
    {
     "name": "stdout",
     "output_type": "stream",
     "text": [
      "<class 'pandas.core.frame.DataFrame'>\n",
      "RangeIndex: 433323 entries, 0 to 433322\n",
      "Data columns (total 8 columns):\n",
      " #   Column     Non-Null Count   Dtype  \n",
      "---  ------     --------------   -----  \n",
      " 0   EXERANY2   433321 non-null  float64\n",
      " 1   EXRACT12   325227 non-null  float64\n",
      " 2   EXEROFT1   323041 non-null  float64\n",
      " 3   EXERHMM1   323039 non-null  float64\n",
      " 4   EXRACT22   323040 non-null  float64\n",
      " 5   EXEROFT2   228757 non-null  float64\n",
      " 6   EXERHMM2   228757 non-null  float64\n",
      " 7   STRENGTH   433319 non-null  float64\n",
      "dtypes: float64(8)\n",
      "memory usage: 26.4 MB\n"
     ]
    }
   ],
   "source": [
    "responses[responses.columns[37:45]].info()"
   ]
  },
  {
   "cell_type": "markdown",
   "metadata": {},
   "source": [
    "## Hypertension Awareness"
   ]
  },
  {
   "cell_type": "code",
   "execution_count": 53,
   "metadata": {},
   "outputs": [
    {
     "name": "stdout",
     "output_type": "stream",
     "text": [
      "<class 'pandas.core.frame.DataFrame'>\n",
      "RangeIndex: 433323 entries, 0 to 433322\n",
      "Data columns (total 2 columns):\n",
      " #   Column    Non-Null Count   Dtype  \n",
      "---  ------    --------------   -----  \n",
      " 0   BPHIGH6   433320 non-null  float64\n",
      " 1   BPMEDS1   176222 non-null  float64\n",
      "dtypes: float64(2)\n",
      "memory usage: 6.6 MB\n"
     ]
    }
   ],
   "source": [
    "responses[responses.columns[45:47]].info()"
   ]
  },
  {
   "cell_type": "markdown",
   "metadata": {},
   "source": [
    "## Cholesterol Awareness"
   ]
  },
  {
   "cell_type": "code",
   "execution_count": 54,
   "metadata": {},
   "outputs": [
    {
     "name": "stdout",
     "output_type": "stream",
     "text": [
      "<class 'pandas.core.frame.DataFrame'>\n",
      "RangeIndex: 433323 entries, 0 to 433322\n",
      "Data columns (total 3 columns):\n",
      " #   Column     Non-Null Count   Dtype  \n",
      "---  ------     --------------   -----  \n",
      " 0   CHOLCHK3   433320 non-null  float64\n",
      " 1   TOLDHI3    381511 non-null  float64\n",
      " 2   CHOLMED3   379883 non-null  float64\n",
      "dtypes: float64(3)\n",
      "memory usage: 9.9 MB\n"
     ]
    }
   ],
   "source": [
    "responses[responses.columns[47:50]].info()"
   ]
  },
  {
   "cell_type": "markdown",
   "metadata": {},
   "source": [
    "## Chronic Health Conditions"
   ]
  },
  {
   "cell_type": "code",
   "execution_count": 55,
   "metadata": {},
   "outputs": [
    {
     "name": "stdout",
     "output_type": "stream",
     "text": [
      "<class 'pandas.core.frame.DataFrame'>\n",
      "RangeIndex: 433323 entries, 0 to 433322\n",
      "Data columns (total 13 columns):\n",
      " #   Column     Non-Null Count   Dtype  \n",
      "---  ------     --------------   -----  \n",
      " 0   CVDINFR4   433320 non-null  float64\n",
      " 1   CVDCRHD4   433320 non-null  float64\n",
      " 2   CVDSTRK3   433319 non-null  float64\n",
      " 3   ASTHMA3    433320 non-null  float64\n",
      " 4   ASTHNOW    64366 non-null   float64\n",
      " 5   CHCSCNC1   433320 non-null  float64\n",
      " 6   CHCOCNC1   433320 non-null  float64\n",
      " 7   CHCCOPD3   433320 non-null  float64\n",
      " 8   ADDEPEV3   433320 non-null  float64\n",
      " 9   CHCKDNY2   433320 non-null  float64\n",
      " 10  HAVARTH4   433319 non-null  float64\n",
      " 11  DIABETE4   433318 non-null  float64\n",
      " 12  DIABAGE4   59786 non-null   float64\n",
      "dtypes: float64(13)\n",
      "memory usage: 43.0 MB\n"
     ]
    }
   ],
   "source": [
    "responses[responses.columns[50:63]].info()"
   ]
  },
  {
   "cell_type": "markdown",
   "metadata": {},
   "source": [
    "## Demographics"
   ]
  },
  {
   "cell_type": "code",
   "execution_count": 56,
   "metadata": {},
   "outputs": [
    {
     "name": "stdout",
     "output_type": "stream",
     "text": [
      "<class 'pandas.core.frame.DataFrame'>\n",
      "RangeIndex: 433323 entries, 0 to 433322\n",
      "Data columns (total 13 columns):\n",
      " #   Column     Non-Null Count   Dtype  \n",
      "---  ------     --------------   -----  \n",
      " 0   MARITAL    433316 non-null  float64\n",
      " 1   EDUCA      433314 non-null  float64\n",
      " 2   RENTHOM1   433315 non-null  float64\n",
      " 3   NUMHHOL4   88345 non-null   float64\n",
      " 4   NUMPHON4   7336 non-null    float64\n",
      " 5   CPDEMO1C   433278 non-null  float64\n",
      " 6   VETERAN3   432104 non-null  float64\n",
      " 7   EMPLOY1    430355 non-null  float64\n",
      " 8   CHILDREN   428231 non-null  float64\n",
      " 9   INCOME3    425248 non-null  float64\n",
      " 10  PREGNANT   76208 non-null   float64\n",
      " 11  WEIGHT2    422712 non-null  float64\n",
      " 12  HEIGHT3    421674 non-null  float64\n",
      "dtypes: float64(13)\n",
      "memory usage: 43.0 MB\n"
     ]
    }
   ],
   "source": [
    "responses[responses.columns[63:76]].info()"
   ]
  },
  {
   "cell_type": "markdown",
   "metadata": {},
   "source": [
    "## Disability"
   ]
  },
  {
   "cell_type": "code",
   "execution_count": 57,
   "metadata": {},
   "outputs": [
    {
     "name": "stdout",
     "output_type": "stream",
     "text": [
      "<class 'pandas.core.frame.DataFrame'>\n",
      "RangeIndex: 433323 entries, 0 to 433322\n",
      "Data columns (total 6 columns):\n",
      " #   Column     Non-Null Count   Dtype  \n",
      "---  ------     --------------   -----  \n",
      " 0   DEAF       420248 non-null  float64\n",
      " 1   BLIND      419243 non-null  float64\n",
      " 2   DECIDE     418184 non-null  float64\n",
      " 3   DIFFWALK   417177 non-null  float64\n",
      " 4   DIFFDRES   416454 non-null  float64\n",
      " 5   DIFFALON   415463 non-null  float64\n",
      "dtypes: float64(6)\n",
      "memory usage: 19.8 MB\n"
     ]
    }
   ],
   "source": [
    "responses[responses.columns[76:82]].info()"
   ]
  },
  {
   "cell_type": "markdown",
   "metadata": {},
   "source": [
    "## Falls"
   ]
  },
  {
   "cell_type": "code",
   "execution_count": 58,
   "metadata": {},
   "outputs": [
    {
     "name": "stdout",
     "output_type": "stream",
     "text": [
      "<class 'pandas.core.frame.DataFrame'>\n",
      "RangeIndex: 433323 entries, 0 to 433322\n",
      "Data columns (total 2 columns):\n",
      " #   Column     Non-Null Count   Dtype  \n",
      "---  ------     --------------   -----  \n",
      " 0   FALL12MN   292496 non-null  float64\n",
      " 1   FALLINJ5   77739 non-null   float64\n",
      "dtypes: float64(2)\n",
      "memory usage: 6.6 MB\n"
     ]
    }
   ],
   "source": [
    "responses[responses.columns[82:84]].info()"
   ]
  },
  {
   "cell_type": "markdown",
   "metadata": {},
   "source": [
    "## Tobacco Use"
   ]
  },
  {
   "cell_type": "code",
   "execution_count": 59,
   "metadata": {},
   "outputs": [
    {
     "name": "stdout",
     "output_type": "stream",
     "text": [
      "<class 'pandas.core.frame.DataFrame'>\n",
      "RangeIndex: 433323 entries, 0 to 433322\n",
      "Data columns (total 4 columns):\n",
      " #   Column     Non-Null Count   Dtype  \n",
      "---  ------     --------------   -----  \n",
      " 0   SMOKE100   413649 non-null  float64\n",
      " 1   SMOKDAY2   158639 non-null  float64\n",
      " 2   USENOW3    412886 non-null  float64\n",
      " 3   ECIGNOW2   411856 non-null  float64\n",
      "dtypes: float64(4)\n",
      "memory usage: 13.2 MB\n"
     ]
    }
   ],
   "source": [
    "responses[responses.columns[84:88]].info()"
   ]
  },
  {
   "cell_type": "markdown",
   "metadata": {},
   "source": [
    "## Alcohol Compsumption"
   ]
  },
  {
   "cell_type": "code",
   "execution_count": 60,
   "metadata": {},
   "outputs": [
    {
     "name": "stdout",
     "output_type": "stream",
     "text": [
      "<class 'pandas.core.frame.DataFrame'>\n",
      "RangeIndex: 433323 entries, 0 to 433322\n",
      "Data columns (total 4 columns):\n",
      " #   Column     Non-Null Count   Dtype  \n",
      "---  ------     --------------   -----  \n",
      " 0   ALCDAY4    407879 non-null  float64\n",
      " 1   AVEDRNK3   212126 non-null  float64\n",
      " 2   DRNK3GE5   211689 non-null  float64\n",
      " 3   MAXDRNKS   211286 non-null  float64\n",
      "dtypes: float64(4)\n",
      "memory usage: 13.2 MB\n"
     ]
    }
   ],
   "source": [
    "responses[responses.columns[88:92]].info()"
   ]
  },
  {
   "cell_type": "markdown",
   "metadata": {},
   "source": [
    "## Immunization"
   ]
  },
  {
   "cell_type": "code",
   "execution_count": 61,
   "metadata": {},
   "outputs": [
    {
     "name": "stdout",
     "output_type": "stream",
     "text": [
      "<class 'pandas.core.frame.DataFrame'>\n",
      "RangeIndex: 433323 entries, 0 to 433322\n",
      "Data columns (total 4 columns):\n",
      " #   Column     Non-Null Count   Dtype  \n",
      "---  ------     --------------   -----  \n",
      " 0   FLUSHOT7   405572 non-null  float64\n",
      " 1   FLSHTMY3   196982 non-null  float64\n",
      " 2   PNEUVAC4   404573 non-null  float64\n",
      " 3   SHINGLE2   256598 non-null  float64\n",
      "dtypes: float64(4)\n",
      "memory usage: 13.2 MB\n"
     ]
    }
   ],
   "source": [
    "responses[responses.columns[92:96]].info()"
   ]
  },
  {
   "cell_type": "markdown",
   "metadata": {},
   "source": [
    "## HIV/AIDS"
   ]
  },
  {
   "cell_type": "code",
   "execution_count": 62,
   "metadata": {},
   "outputs": [
    {
     "name": "stdout",
     "output_type": "stream",
     "text": [
      "<class 'pandas.core.frame.DataFrame'>\n",
      "RangeIndex: 433323 entries, 0 to 433322\n",
      "Data columns (total 2 columns):\n",
      " #   Column     Non-Null Count   Dtype  \n",
      "---  ------     --------------   -----  \n",
      " 0   HIVTST7    403710 non-null  float64\n",
      " 1   HIVTSTD3   133265 non-null  float64\n",
      "dtypes: float64(2)\n",
      "memory usage: 6.6 MB\n"
     ]
    }
   ],
   "source": [
    "responses[responses.columns[96:98]].info()"
   ]
  },
  {
   "cell_type": "markdown",
   "metadata": {},
   "source": [
    "## Seatbelt Use and Drinking and Driving"
   ]
  },
  {
   "cell_type": "code",
   "execution_count": 63,
   "metadata": {},
   "outputs": [
    {
     "name": "stdout",
     "output_type": "stream",
     "text": [
      "<class 'pandas.core.frame.DataFrame'>\n",
      "RangeIndex: 433323 entries, 0 to 433322\n",
      "Data columns (total 2 columns):\n",
      " #   Column     Non-Null Count   Dtype  \n",
      "---  ------     --------------   -----  \n",
      " 0   SEATBELT   402545 non-null  float64\n",
      " 1   DRNKDRI2   213005 non-null  float64\n",
      "dtypes: float64(2)\n",
      "memory usage: 6.6 MB\n"
     ]
    }
   ],
   "source": [
    "responses[responses.columns[98:100]].info()"
   ]
  },
  {
   "cell_type": "markdown",
   "metadata": {},
   "source": [
    "## Long-term COVID Effects"
   ]
  },
  {
   "cell_type": "code",
   "execution_count": 65,
   "metadata": {},
   "outputs": [
    {
     "name": "stdout",
     "output_type": "stream",
     "text": [
      "<class 'pandas.core.frame.DataFrame'>\n",
      "RangeIndex: 433323 entries, 0 to 433322\n",
      "Data columns (total 3 columns):\n",
      " #   Column     Non-Null Count   Dtype  \n",
      "---  ------     --------------   -----  \n",
      " 0   COVIDPO1   401308 non-null  float64\n",
      " 1   COVIDSM1   201017 non-null  float64\n",
      " 2   COVIDACT   27036 non-null   float64\n",
      "dtypes: float64(3)\n",
      "memory usage: 9.9 MB\n"
     ]
    }
   ],
   "source": [
    "responses[responses.columns[100:103]].info()"
   ]
  },
  {
   "cell_type": "markdown",
   "metadata": {},
   "source": [
    "## Pre-Diabetes"
   ]
  },
  {
   "cell_type": "code",
   "execution_count": 66,
   "metadata": {},
   "outputs": [
    {
     "name": "stdout",
     "output_type": "stream",
     "text": [
      "<class 'pandas.core.frame.DataFrame'>\n",
      "RangeIndex: 433323 entries, 0 to 433322\n",
      "Data columns (total 2 columns):\n",
      " #   Column     Non-Null Count   Dtype  \n",
      "---  ------     --------------   -----  \n",
      " 0   PDIABTS1   166249 non-null  float64\n",
      " 1   PREDIAB2   166152 non-null  float64\n",
      "dtypes: float64(2)\n",
      "memory usage: 6.6 MB\n"
     ]
    }
   ],
   "source": [
    "responses[responses.columns[103:105]].info()"
   ]
  },
  {
   "cell_type": "markdown",
   "metadata": {},
   "source": [
    "## Diabetes"
   ]
  },
  {
   "cell_type": "code",
   "execution_count": 67,
   "metadata": {},
   "outputs": [
    {
     "name": "stdout",
     "output_type": "stream",
     "text": [
      "<class 'pandas.core.frame.DataFrame'>\n",
      "RangeIndex: 433323 entries, 0 to 433322\n",
      "Data columns (total 7 columns):\n",
      " #   Column     Non-Null Count  Dtype  \n",
      "---  ------     --------------  -----  \n",
      " 0   DIABTYPE   24275 non-null  float64\n",
      " 1   INSULIN1   24268 non-null  float64\n",
      " 2   CHKHEMO3   24260 non-null  float64\n",
      " 3   EYEEXAM1   24253 non-null  float64\n",
      " 4   DIABEYE1   24244 non-null  float64\n",
      " 5   DIABEDU1   24240 non-null  float64\n",
      " 6   FEETSORE   24238 non-null  float64\n",
      "dtypes: float64(7)\n",
      "memory usage: 23.1 MB\n"
     ]
    }
   ],
   "source": [
    "responses[responses.columns[105:112]].info()"
   ]
  },
  {
   "cell_type": "markdown",
   "metadata": {},
   "source": [
    "## Arthritis"
   ]
  },
  {
   "cell_type": "code",
   "execution_count": 68,
   "metadata": {},
   "outputs": [
    {
     "name": "stdout",
     "output_type": "stream",
     "text": [
      "<class 'pandas.core.frame.DataFrame'>\n",
      "RangeIndex: 433323 entries, 0 to 433322\n",
      "Data columns (total 5 columns):\n",
      " #   Column     Non-Null Count  Dtype  \n",
      "---  ------     --------------  -----  \n",
      " 0   ARTHEXER   23323 non-null  float64\n",
      " 1   ARTHEDU    23296 non-null  float64\n",
      " 2   LMTJOIN3   23262 non-null  float64\n",
      " 3   ARTHDIS2   23213 non-null  float64\n",
      " 4   JOINPAI2   23152 non-null  float64\n",
      "dtypes: float64(5)\n",
      "memory usage: 16.5 MB\n"
     ]
    }
   ],
   "source": [
    "responses[responses.columns[112:117]].info()"
   ]
  },
  {
   "cell_type": "markdown",
   "metadata": {},
   "source": [
    "## Lung Cancer Screening"
   ]
  },
  {
   "cell_type": "code",
   "execution_count": 69,
   "metadata": {},
   "outputs": [
    {
     "name": "stdout",
     "output_type": "stream",
     "text": [
      "<class 'pandas.core.frame.DataFrame'>\n",
      "RangeIndex: 433323 entries, 0 to 433322\n",
      "Data columns (total 6 columns):\n",
      " #   Column     Non-Null Count  Dtype  \n",
      "---  ------     --------------  -----  \n",
      " 0   LCSFIRST   8541 non-null   float64\n",
      " 1   LCSLAST    6748 non-null   float64\n",
      " 2   LCSNUMCG   8199 non-null   float64\n",
      " 3   LCSCTSC1   24095 non-null  float64\n",
      " 4   LCSSCNCR   10272 non-null  float64\n",
      " 5   LCSCTWHN   1960 non-null   float64\n",
      "dtypes: float64(6)\n",
      "memory usage: 19.8 MB\n"
     ]
    }
   ],
   "source": [
    "responses[responses.columns[117:123]].info()"
   ]
  },
  {
   "cell_type": "markdown",
   "metadata": {},
   "source": [
    "## Breast and Cervical Cancer Screening"
   ]
  },
  {
   "cell_type": "code",
   "execution_count": 70,
   "metadata": {},
   "outputs": [
    {
     "name": "stdout",
     "output_type": "stream",
     "text": [
      "<class 'pandas.core.frame.DataFrame'>\n",
      "RangeIndex: 433323 entries, 0 to 433322\n",
      "Data columns (total 17 columns):\n",
      " #   Column     Non-Null Count  Dtype  \n",
      "---  ------     --------------  -----  \n",
      " 0   ARTHEDU    23296 non-null  float64\n",
      " 1   LMTJOIN3   23262 non-null  float64\n",
      " 2   ARTHDIS2   23213 non-null  float64\n",
      " 3   JOINPAI2   23152 non-null  float64\n",
      " 4   LCSFIRST   8541 non-null   float64\n",
      " 5   LCSLAST    6748 non-null   float64\n",
      " 6   LCSNUMCG   8199 non-null   float64\n",
      " 7   LCSCTSC1   24095 non-null  float64\n",
      " 8   LCSSCNCR   10272 non-null  float64\n",
      " 9   LCSCTWHN   1960 non-null   float64\n",
      " 10  HADMAM     1093 non-null   float64\n",
      " 11  HOWLONG    914 non-null    float64\n",
      " 12  CERVSCRN   1089 non-null   float64\n",
      " 13  CRVCLCNC   585 non-null    float64\n",
      " 14  CRVCLPAP   585 non-null    float64\n",
      " 15  CRVCLHPV   583 non-null    float64\n",
      " 16  HADHYST2   1083 non-null   float64\n",
      "dtypes: float64(17)\n",
      "memory usage: 56.2 MB\n"
     ]
    }
   ],
   "source": [
    "responses[responses.columns[113:130]].info()"
   ]
  },
  {
   "cell_type": "markdown",
   "metadata": {},
   "source": [
    "## Prostate Cancer Screening"
   ]
  },
  {
   "cell_type": "code",
   "execution_count": 71,
   "metadata": {},
   "outputs": [
    {
     "name": "stdout",
     "output_type": "stream",
     "text": [
      "<class 'pandas.core.frame.DataFrame'>\n",
      "RangeIndex: 433323 entries, 0 to 433322\n",
      "Data columns (total 5 columns):\n",
      " #   Column     Non-Null Count  Dtype  \n",
      "---  ------     --------------  -----  \n",
      " 0   PSATEST1   29527 non-null  float64\n",
      " 1   PSATIME1   16246 non-null  float64\n",
      " 2   PCPSARS2   16226 non-null  float64\n",
      " 3   PSASUGS1   16202 non-null  float64\n",
      " 4   PCSTALK2   29352 non-null  float64\n",
      "dtypes: float64(5)\n",
      "memory usage: 16.5 MB\n"
     ]
    }
   ],
   "source": [
    "responses[responses.columns[130:135]].info()"
   ]
  },
  {
   "cell_type": "markdown",
   "metadata": {},
   "source": [
    "## Colorectal Cancer Screening"
   ]
  },
  {
   "cell_type": "code",
   "execution_count": 72,
   "metadata": {},
   "outputs": [
    {
     "name": "stdout",
     "output_type": "stream",
     "text": [
      "<class 'pandas.core.frame.DataFrame'>\n",
      "RangeIndex: 433323 entries, 0 to 433322\n",
      "Data columns (total 13 columns):\n",
      " #   Column     Non-Null Count  Dtype  \n",
      "---  ------     --------------  -----  \n",
      " 0   HADSIGM4   10639 non-null  float64\n",
      " 1   COLNSIGM   7657 non-null   float64\n",
      " 2   COLNTES1   7449 non-null   float64\n",
      " 3   SIGMTES1   1226 non-null   float64\n",
      " 4   LASTSIG4   146 non-null    float64\n",
      " 5   COLNCNCR   10612 non-null  float64\n",
      " 6   VIRCOLO1   2598 non-null   float64\n",
      " 7   VCLNTES2   340 non-null    float64\n",
      " 8   SMALSTOL   2595 non-null   float64\n",
      " 9   STOLTEST   2161 non-null   float64\n",
      " 10  STOOLDN2   2587 non-null   float64\n",
      " 11  BLDSTFIT   512 non-null    float64\n",
      " 12  SDNATES1   511 non-null    float64\n",
      "dtypes: float64(13)\n",
      "memory usage: 43.0 MB\n"
     ]
    }
   ],
   "source": [
    "responses[responses.columns[135:148]].info()"
   ]
  },
  {
   "cell_type": "markdown",
   "metadata": {},
   "source": [
    "## Cancer Survivorship: Type of Cancer"
   ]
  },
  {
   "cell_type": "code",
   "execution_count": 73,
   "metadata": {},
   "outputs": [
    {
     "name": "stdout",
     "output_type": "stream",
     "text": [
      "<class 'pandas.core.frame.DataFrame'>\n",
      "RangeIndex: 433323 entries, 0 to 433322\n",
      "Data columns (total 3 columns):\n",
      " #   Column     Non-Null Count  Dtype  \n",
      "---  ------     --------------  -----  \n",
      " 0   CNCRDIFF   17161 non-null  float64\n",
      " 1   CNCRAGE    16629 non-null  float64\n",
      " 2   CNCRTYP2   16606 non-null  float64\n",
      "dtypes: float64(3)\n",
      "memory usage: 9.9 MB\n"
     ]
    }
   ],
   "source": [
    "responses[responses.columns[148:151]].info()"
   ]
  },
  {
   "cell_type": "markdown",
   "metadata": {},
   "source": [
    "## Cancer Survivorship: Course of Treatment"
   ]
  },
  {
   "cell_type": "code",
   "execution_count": 75,
   "metadata": {},
   "outputs": [
    {
     "name": "stdout",
     "output_type": "stream",
     "text": [
      "<class 'pandas.core.frame.DataFrame'>\n",
      "RangeIndex: 433323 entries, 0 to 433322\n",
      "Data columns (total 8 columns):\n",
      " #   Column     Non-Null Count  Dtype  \n",
      "---  ------     --------------  -----  \n",
      " 0   CSRVTRT3   3671 non-null   float64\n",
      " 1   CSRVDOC1   1808 non-null   float64\n",
      " 2   CSRVSUM    1807 non-null   float64\n",
      " 3   CSRVRTRN   1805 non-null   float64\n",
      " 4   CSRVINST   1360 non-null   float64\n",
      " 5   CSRVINSR   1799 non-null   float64\n",
      " 6   CSRVDEIN   1797 non-null   float64\n",
      " 7   CSRVCLIN   1795 non-null   float64\n",
      "dtypes: float64(8)\n",
      "memory usage: 26.4 MB\n"
     ]
    }
   ],
   "source": [
    "responses[responses.columns[151:159]].info()"
   ]
  },
  {
   "cell_type": "markdown",
   "metadata": {},
   "source": [
    "## Cancer Survivorship: Pain Management"
   ]
  },
  {
   "cell_type": "code",
   "execution_count": 76,
   "metadata": {},
   "outputs": [
    {
     "name": "stdout",
     "output_type": "stream",
     "text": [
      "<class 'pandas.core.frame.DataFrame'>\n",
      "RangeIndex: 433323 entries, 0 to 433322\n",
      "Data columns (total 2 columns):\n",
      " #   Column     Non-Null Count  Dtype  \n",
      "---  ------     --------------  -----  \n",
      " 0   CSRVPAIN   2773 non-null   float64\n",
      " 1   CSRVCTL2   222 non-null    float64\n",
      "dtypes: float64(2)\n",
      "memory usage: 6.6 MB\n"
     ]
    }
   ],
   "source": [
    "responses[responses.columns[159:161]].info()"
   ]
  },
  {
   "cell_type": "markdown",
   "metadata": {},
   "source": [
    "## Sun Exposure (Todas están en NAN)"
   ]
  },
  {
   "cell_type": "code",
   "execution_count": 78,
   "metadata": {},
   "outputs": [
    {
     "name": "stdout",
     "output_type": "stream",
     "text": [
      "<class 'pandas.core.frame.DataFrame'>\n",
      "RangeIndex: 433323 entries, 0 to 433322\n",
      "Data columns (total 5 columns):\n",
      " #   Column     Non-Null Count  Dtype  \n",
      "---  ------     --------------  -----  \n",
      " 0   INDORTAN   0 non-null      float64\n",
      " 1   NUMBURN3   0 non-null      float64\n",
      " 2   SUNPRTCT   0 non-null      float64\n",
      " 3   WKDAYOUT   0 non-null      float64\n",
      " 4   WKENDOUT   0 non-null      float64\n",
      "dtypes: float64(5)\n",
      "memory usage: 16.5 MB\n"
     ]
    }
   ],
   "source": [
    "responses[responses.columns[161:166]].info()"
   ]
  },
  {
   "cell_type": "markdown",
   "metadata": {},
   "source": [
    "## Cognitive Decline"
   ]
  },
  {
   "cell_type": "code",
   "execution_count": 79,
   "metadata": {},
   "outputs": [
    {
     "name": "stdout",
     "output_type": "stream",
     "text": [
      "<class 'pandas.core.frame.DataFrame'>\n",
      "RangeIndex: 433323 entries, 0 to 433322\n",
      "Data columns (total 5 columns):\n",
      " #   Column     Non-Null Count   Dtype  \n",
      "---  ------     --------------   -----  \n",
      " 0   CIMEMLO1   135909 non-null  float64\n",
      " 1   CDWORRY    22483 non-null   float64\n",
      " 2   CDDISCU1   22470 non-null   float64\n",
      " 3   CDHOUS1    22443 non-null   float64\n",
      " 4   CDSOCIA1   22410 non-null   float64\n",
      "dtypes: float64(5)\n",
      "memory usage: 16.5 MB\n"
     ]
    }
   ],
   "source": [
    "responses[responses.columns[166:171]].info()"
   ]
  },
  {
   "cell_type": "markdown",
   "metadata": {},
   "source": [
    "## Caregiver"
   ]
  },
  {
   "cell_type": "code",
   "execution_count": 80,
   "metadata": {},
   "outputs": [
    {
     "name": "stdout",
     "output_type": "stream",
     "text": [
      "<class 'pandas.core.frame.DataFrame'>\n",
      "RangeIndex: 433323 entries, 0 to 433322\n",
      "Data columns (total 9 columns):\n",
      " #   Column     Non-Null Count  Dtype  \n",
      "---  ------     --------------  -----  \n",
      " 0   CAREGIV1   50811 non-null  float64\n",
      " 1   CRGVREL4   11483 non-null  float64\n",
      " 2   CRGVLNG1   11457 non-null  float64\n",
      " 3   CRGVHRS1   11424 non-null  float64\n",
      " 4   CRGVPRB3   11397 non-null  float64\n",
      " 5   CRGVALZD   10081 non-null  float64\n",
      " 6   CRGVPER1   11347 non-null  float64\n",
      " 7   CRGVHOU1   11336 non-null  float64\n",
      " 8   CRGVEXPT   39153 non-null  float64\n",
      "dtypes: float64(9)\n",
      "memory usage: 29.8 MB\n"
     ]
    }
   ],
   "source": [
    "responses[responses.columns[171:180]].info()"
   ]
  },
  {
   "cell_type": "markdown",
   "metadata": {},
   "source": [
    "## Tobacco Cessation"
   ]
  },
  {
   "cell_type": "code",
   "execution_count": 81,
   "metadata": {},
   "outputs": [
    {
     "name": "stdout",
     "output_type": "stream",
     "text": [
      "<class 'pandas.core.frame.DataFrame'>\n",
      "RangeIndex: 433323 entries, 0 to 433322\n",
      "Data columns (total 2 columns):\n",
      " #   Column     Non-Null Count  Dtype  \n",
      "---  ------     --------------  -----  \n",
      " 0   LASTSMK2   50984 non-null  float64\n",
      " 1   STOPSMK2   20729 non-null  float64\n",
      "dtypes: float64(2)\n",
      "memory usage: 6.6 MB\n"
     ]
    }
   ],
   "source": [
    "responses[responses.columns[180:182]].info()"
   ]
  },
  {
   "cell_type": "markdown",
   "metadata": {},
   "source": [
    "## Other Tobacco Use"
   ]
  },
  {
   "cell_type": "code",
   "execution_count": 82,
   "metadata": {},
   "outputs": [
    {
     "name": "stdout",
     "output_type": "stream",
     "text": [
      "<class 'pandas.core.frame.DataFrame'>\n",
      "RangeIndex: 433323 entries, 0 to 433322\n",
      "Data columns (total 3 columns):\n",
      " #   Column     Non-Null Count   Dtype  \n",
      "---  ------     --------------   -----  \n",
      " 0   MENTCIGS   26214 non-null   float64\n",
      " 1   MENTECIG   12455 non-null   float64\n",
      " 2   HEATTBCO   237914 non-null  float64\n",
      "dtypes: float64(3)\n",
      "memory usage: 9.9 MB\n"
     ]
    }
   ],
   "source": [
    "responses[responses.columns[182:185]].info()"
   ]
  },
  {
   "cell_type": "markdown",
   "metadata": {},
   "source": [
    "## Firearm Safety"
   ]
  },
  {
   "cell_type": "code",
   "execution_count": 83,
   "metadata": {},
   "outputs": [
    {
     "name": "stdout",
     "output_type": "stream",
     "text": [
      "<class 'pandas.core.frame.DataFrame'>\n",
      "RangeIndex: 433323 entries, 0 to 433322\n",
      "Data columns (total 3 columns):\n",
      " #   Column     Non-Null Count  Dtype  \n",
      "---  ------     --------------  -----  \n",
      " 0   FIREARM5   81310 non-null  float64\n",
      " 1   GUNLOAD    30177 non-null  float64\n",
      " 2   LOADULK2   10155 non-null  float64\n",
      "dtypes: float64(3)\n",
      "memory usage: 9.9 MB\n"
     ]
    }
   ],
   "source": [
    "responses[responses.columns[185:188]].info()"
   ]
  },
  {
   "cell_type": "markdown",
   "metadata": {},
   "source": [
    "## Heart Attack and Stroke (do you think?)"
   ]
  },
  {
   "cell_type": "code",
   "execution_count": 84,
   "metadata": {},
   "outputs": [
    {
     "name": "stdout",
     "output_type": "stream",
     "text": [
      "<class 'pandas.core.frame.DataFrame'>\n",
      "RangeIndex: 433323 entries, 0 to 433322\n",
      "Data columns (total 13 columns):\n",
      " #   Column     Non-Null Count  Dtype  \n",
      "---  ------     --------------  -----  \n",
      " 0   HASYMP1    10522 non-null  float64\n",
      " 1   HASYMP2    10507 non-null  float64\n",
      " 2   HASYMP3    10501 non-null  float64\n",
      " 3   HASYMP4    10493 non-null  float64\n",
      " 4   HASYMP5    10484 non-null  float64\n",
      " 5   HASYMP6    10475 non-null  float64\n",
      " 6   STRSYMP1   10438 non-null  float64\n",
      " 7   STRSYMP2   10424 non-null  float64\n",
      " 8   STRSYMP3   10416 non-null  float64\n",
      " 9   STRSYMP4   10403 non-null  float64\n",
      " 10  STRSYMP5   10391 non-null  float64\n",
      " 11  STRSYMP6   10375 non-null  float64\n",
      " 12  FIRSTAID   10359 non-null  float64\n",
      "dtypes: float64(13)\n",
      "memory usage: 43.0 MB\n"
     ]
    }
   ],
   "source": [
    "responses[responses.columns[188:201]].info()"
   ]
  },
  {
   "cell_type": "markdown",
   "metadata": {},
   "source": [
    "## Aspirin for CVD Prevention"
   ]
  },
  {
   "cell_type": "code",
   "execution_count": 85,
   "metadata": {},
   "outputs": [
    {
     "name": "stdout",
     "output_type": "stream",
     "text": [
      "<class 'pandas.core.series.Series'>\n",
      "RangeIndex: 433323 entries, 0 to 433322\n",
      "Series name: ASPIRIN \n",
      "Non-Null Count  Dtype  \n",
      "--------------  -----  \n",
      "25845 non-null  float64\n",
      "dtypes: float64(1)\n",
      "memory usage: 3.3 MB\n"
     ]
    }
   ],
   "source": [
    "responses[responses.columns[201]].info()"
   ]
  },
  {
   "cell_type": "markdown",
   "metadata": {},
   "source": [
    "## Sex at Birth"
   ]
  },
  {
   "cell_type": "code",
   "execution_count": 86,
   "metadata": {},
   "outputs": [
    {
     "name": "stdout",
     "output_type": "stream",
     "text": [
      "<class 'pandas.core.series.Series'>\n",
      "RangeIndex: 433323 entries, 0 to 433322\n",
      "Series name: BIRTHSEX \n",
      "Non-Null Count   Dtype  \n",
      "--------------   -----  \n",
      "105230 non-null  float64\n",
      "dtypes: float64(1)\n",
      "memory usage: 3.3 MB\n"
     ]
    }
   ],
   "source": [
    "responses[responses.columns[202]].info()"
   ]
  },
  {
   "cell_type": "markdown",
   "metadata": {},
   "source": [
    "## Sexual Orientation and Gender Identity (SOGI)"
   ]
  },
  {
   "cell_type": "code",
   "execution_count": 88,
   "metadata": {},
   "outputs": [
    {
     "name": "stdout",
     "output_type": "stream",
     "text": [
      "<class 'pandas.core.frame.DataFrame'>\n",
      "RangeIndex: 433323 entries, 0 to 433322\n",
      "Data columns (total 3 columns):\n",
      " #   Column     Non-Null Count   Dtype  \n",
      "---  ------     --------------   -----  \n",
      " 0   SOMALE     135790 non-null  float64\n",
      " 1   SOFEMALE   153467 non-null  float64\n",
      " 2   TRNSGNDR   289143 non-null  float64\n",
      "dtypes: float64(3)\n",
      "memory usage: 9.9 MB\n"
     ]
    }
   ],
   "source": [
    "responses[responses.columns[203:206]].info()"
   ]
  },
  {
   "cell_type": "markdown",
   "metadata": {},
   "source": [
    "## Marijuana Use"
   ]
  },
  {
   "cell_type": "code",
   "execution_count": 89,
   "metadata": {},
   "outputs": [
    {
     "name": "stdout",
     "output_type": "stream",
     "text": [
      "<class 'pandas.core.frame.DataFrame'>\n",
      "RangeIndex: 433323 entries, 0 to 433322\n",
      "Data columns (total 6 columns):\n",
      " #   Column     Non-Null Count  Dtype  \n",
      "---  ------     --------------  -----  \n",
      " 0   MARIJAN1   88613 non-null  float64\n",
      " 1   MARJSMOK   11440 non-null  float64\n",
      " 2   MARJEAT    11433 non-null  float64\n",
      " 3   MARJVAPE   11425 non-null  float64\n",
      " 4   MARJDAB    11413 non-null  float64\n",
      " 5   MARJOTHR   11405 non-null  float64\n",
      "dtypes: float64(6)\n",
      "memory usage: 19.8 MB\n"
     ]
    }
   ],
   "source": [
    "responses[responses.columns[206:212]].info()"
   ]
  },
  {
   "cell_type": "markdown",
   "metadata": {},
   "source": [
    "## Adverse Childhood Experiences"
   ]
  },
  {
   "cell_type": "code",
   "execution_count": 91,
   "metadata": {},
   "outputs": [
    {
     "name": "stdout",
     "output_type": "stream",
     "text": [
      "<class 'pandas.core.frame.DataFrame'>\n",
      "RangeIndex: 433323 entries, 0 to 433322\n",
      "Data columns (total 14 columns):\n",
      " #   Column     Non-Null Count  Dtype  \n",
      "---  ------     --------------  -----  \n",
      " 0   USEMRJN4   4754 non-null   float64\n",
      " 1   ACEDEPRS   56040 non-null  float64\n",
      " 2   ACEDRINK   55939 non-null  float64\n",
      " 3   ACEDRUGS   55891 non-null  float64\n",
      " 4   ACEPRISN   55845 non-null  float64\n",
      " 5   ACEDIVRC   55808 non-null  float64\n",
      " 6   ACEPUNCH   55758 non-null  float64\n",
      " 7   ACEHURT1   55687 non-null  float64\n",
      " 8   ACESWEAR   55621 non-null  float64\n",
      " 9   ACETOUCH   55554 non-null  float64\n",
      " 10  ACETTHEM   55486 non-null  float64\n",
      " 11  ACEHVSEX   55417 non-null  float64\n",
      " 12  ACEADSAF   55303 non-null  float64\n",
      " 13  ACEADNED   55224 non-null  float64\n",
      "dtypes: float64(14)\n",
      "memory usage: 46.3 MB\n"
     ]
    }
   ],
   "source": [
    "responses[responses.columns[212:226]].info()"
   ]
  },
  {
   "cell_type": "markdown",
   "metadata": {},
   "source": [
    "## Place of Flu Vaccination"
   ]
  },
  {
   "cell_type": "code",
   "execution_count": 92,
   "metadata": {},
   "outputs": [
    {
     "name": "stdout",
     "output_type": "stream",
     "text": [
      "<class 'pandas.core.series.Series'>\n",
      "RangeIndex: 433323 entries, 0 to 433322\n",
      "Series name: IMFVPLA4 \n",
      "Non-Null Count  Dtype  \n",
      "--------------  -----  \n",
      "4063 non-null   float64\n",
      "dtypes: float64(1)\n",
      "memory usage: 3.3 MB\n"
     ]
    }
   ],
   "source": [
    "responses[responses.columns[226]].info()"
   ]
  },
  {
   "cell_type": "markdown",
   "metadata": {},
   "source": [
    "## HPV Vaccination"
   ]
  },
  {
   "cell_type": "code",
   "execution_count": 93,
   "metadata": {},
   "outputs": [
    {
     "name": "stdout",
     "output_type": "stream",
     "text": [
      "<class 'pandas.core.frame.DataFrame'>\n",
      "RangeIndex: 433323 entries, 0 to 433322\n",
      "Data columns (total 2 columns):\n",
      " #   Column     Non-Null Count  Dtype  \n",
      "---  ------     --------------  -----  \n",
      " 0   HPVADVC4   8902 non-null   float64\n",
      " 1   HPVADSHT   2292 non-null   float64\n",
      "dtypes: float64(2)\n",
      "memory usage: 6.6 MB\n"
     ]
    }
   ],
   "source": [
    "responses[responses.columns[227:229]].info()"
   ]
  },
  {
   "cell_type": "markdown",
   "metadata": {},
   "source": [
    "## Tetanus Diphtheria (Tdap) (Adults)"
   ]
  },
  {
   "cell_type": "code",
   "execution_count": 94,
   "metadata": {},
   "outputs": [
    {
     "name": "stdout",
     "output_type": "stream",
     "text": [
      "<class 'pandas.core.series.Series'>\n",
      "RangeIndex: 433323 entries, 0 to 433322\n",
      "Series name: TETANUS1 \n",
      "Non-Null Count  Dtype  \n",
      "--------------  -----  \n",
      "12840 non-null  float64\n",
      "dtypes: float64(1)\n",
      "memory usage: 3.3 MB\n"
     ]
    }
   ],
   "source": [
    "responses[responses.columns[229]].info()"
   ]
  },
  {
   "cell_type": "markdown",
   "metadata": {},
   "source": [
    "## COVID Vaccination"
   ]
  },
  {
   "cell_type": "code",
   "execution_count": 95,
   "metadata": {},
   "outputs": [
    {
     "name": "stdout",
     "output_type": "stream",
     "text": [
      "<class 'pandas.core.frame.DataFrame'>\n",
      "RangeIndex: 433323 entries, 0 to 433322\n",
      "Data columns (total 3 columns):\n",
      " #   Column     Non-Null Count   Dtype  \n",
      "---  ------     --------------   -----  \n",
      " 0   COVIDVA1   131896 non-null  float64\n",
      " 1   COVACGE1   20255 non-null   float64\n",
      " 2   COVIDNU2   110754 non-null  float64\n",
      "dtypes: float64(3)\n",
      "memory usage: 9.9 MB\n"
     ]
    }
   ],
   "source": [
    "responses[responses.columns[230:233]].info()"
   ]
  },
  {
   "cell_type": "markdown",
   "metadata": {},
   "source": [
    "## Social Determinants and Health Equity"
   ]
  },
  {
   "cell_type": "code",
   "execution_count": 96,
   "metadata": {},
   "outputs": [
    {
     "name": "stdout",
     "output_type": "stream",
     "text": [
      "<class 'pandas.core.frame.DataFrame'>\n",
      "RangeIndex: 433323 entries, 0 to 433322\n",
      "Data columns (total 10 columns):\n",
      " #   Column     Non-Null Count   Dtype  \n",
      "---  ------     --------------   -----  \n",
      " 0   LSATISFY   226676 non-null  float64\n",
      " 1   EMTSUPRT   226318 non-null  float64\n",
      " 2   SDLONELY   225998 non-null  float64\n",
      " 3   SDHEMPLY   225739 non-null  float64\n",
      " 4   FOODSTMP   225475 non-null  float64\n",
      " 5   SDHFOOD1   225129 non-null  float64\n",
      " 6   SDHBILLS   224861 non-null  float64\n",
      " 7   SDHUTILS   224624 non-null  float64\n",
      " 8   SDHTRNSP   224266 non-null  float64\n",
      " 9   SDHSTRE1   223493 non-null  float64\n",
      "dtypes: float64(10)\n",
      "memory usage: 33.1 MB\n"
     ]
    }
   ],
   "source": [
    "responses[responses.columns[233:243]].info()"
   ]
  },
  {
   "cell_type": "markdown",
   "metadata": {},
   "source": [
    "## Reactions to Race"
   ]
  },
  {
   "cell_type": "code",
   "execution_count": 97,
   "metadata": {},
   "outputs": [
    {
     "name": "stdout",
     "output_type": "stream",
     "text": [
      "<class 'pandas.core.frame.DataFrame'>\n",
      "RangeIndex: 433323 entries, 0 to 433322\n",
      "Data columns (total 6 columns):\n",
      " #   Column     Non-Null Count   Dtype  \n",
      "---  ------     --------------   -----  \n",
      " 0   RRCLASS3   142505 non-null  float64\n",
      " 1   RRCOGNT2   142164 non-null  float64\n",
      " 2   RRTREAT    141806 non-null  float64\n",
      " 3   RRATWRK2   70209 non-null   float64\n",
      " 4   RRHCARE4   141333 non-null  float64\n",
      " 5   RRPHYSM2   141022 non-null  float64\n",
      "dtypes: float64(6)\n",
      "memory usage: 19.8 MB\n"
     ]
    }
   ],
   "source": [
    "responses[responses.columns[243:249]].info()"
   ]
  },
  {
   "cell_type": "markdown",
   "metadata": {},
   "source": [
    "## Random Child Selection"
   ]
  },
  {
   "cell_type": "code",
   "execution_count": 98,
   "metadata": {},
   "outputs": [
    {
     "name": "stdout",
     "output_type": "stream",
     "text": [
      "<class 'pandas.core.frame.DataFrame'>\n",
      "RangeIndex: 433323 entries, 0 to 433322\n",
      "Data columns (total 3 columns):\n",
      " #   Column     Non-Null Count  Dtype  \n",
      "---  ------     --------------  -----  \n",
      " 0   RCSGEND1   49434 non-null  float64\n",
      " 1   RCSXBRTH   2634 non-null   float64\n",
      " 2   RCSRLTN2   49024 non-null  float64\n",
      "dtypes: float64(3)\n",
      "memory usage: 9.9 MB\n"
     ]
    }
   ],
   "source": [
    "responses[responses.columns[249:252]].info()"
   ]
  },
  {
   "cell_type": "markdown",
   "metadata": {},
   "source": [
    "## Childhood Asthma Prevalence"
   ]
  },
  {
   "cell_type": "code",
   "execution_count": 101,
   "metadata": {},
   "outputs": [
    {
     "name": "stdout",
     "output_type": "stream",
     "text": [
      "<class 'pandas.core.frame.DataFrame'>\n",
      "RangeIndex: 433323 entries, 0 to 433322\n",
      "Data columns (total 2 columns):\n",
      " #   Column     Non-Null Count  Dtype  \n",
      "---  ------     --------------  -----  \n",
      " 0   CASTHDX2   47624 non-null  float64\n",
      " 1   CASTHNO2   4749 non-null   float64\n",
      "dtypes: float64(2)\n",
      "memory usage: 6.6 MB\n"
     ]
    }
   ],
   "source": [
    "responses[responses.columns[252:254]].info()"
   ]
  },
  {
   "cell_type": "markdown",
   "metadata": {},
   "source": [
    "## Questionnaire Version"
   ]
  },
  {
   "cell_type": "code",
   "execution_count": 102,
   "metadata": {},
   "outputs": [
    {
     "name": "stdout",
     "output_type": "stream",
     "text": [
      "<class 'pandas.core.series.Series'>\n",
      "RangeIndex: 433323 entries, 0 to 433322\n",
      "Series name: QSTVER \n",
      "Non-Null Count   Dtype\n",
      "--------------   -----\n",
      "433323 non-null  int64\n",
      "dtypes: int64(1)\n",
      "memory usage: 3.3 MB\n"
     ]
    }
   ],
   "source": [
    "responses[responses.columns[254]].info()"
   ]
  },
  {
   "cell_type": "markdown",
   "metadata": {},
   "source": [
    "## Questionnaire Language"
   ]
  },
  {
   "cell_type": "code",
   "execution_count": 103,
   "metadata": {},
   "outputs": [
    {
     "name": "stdout",
     "output_type": "stream",
     "text": [
      "<class 'pandas.core.series.Series'>\n",
      "RangeIndex: 433323 entries, 0 to 433322\n",
      "Series name: QSTLANG \n",
      "Non-Null Count   Dtype\n",
      "--------------   -----\n",
      "433323 non-null  int64\n",
      "dtypes: int64(1)\n",
      "memory usage: 3.3 MB\n"
     ]
    }
   ],
   "source": [
    "responses[responses.columns[255]].info()"
   ]
  },
  {
   "cell_type": "markdown",
   "metadata": {},
   "source": [
    "## Urban Rural"
   ]
  },
  {
   "cell_type": "code",
   "execution_count": 104,
   "metadata": {},
   "outputs": [
    {
     "name": "stdout",
     "output_type": "stream",
     "text": [
      "<class 'pandas.core.frame.DataFrame'>\n",
      "RangeIndex: 433323 entries, 0 to 433322\n",
      "Data columns (total 2 columns):\n",
      " #   Column     Non-Null Count   Dtype  \n",
      "---  ------     --------------   -----  \n",
      " 0   _METSTAT   425000 non-null  float64\n",
      " 1   _URBSTAT   425000 non-null  float64\n",
      "dtypes: float64(2)\n",
      "memory usage: 6.6 MB\n"
     ]
    }
   ],
   "source": [
    "responses[responses.columns[256:258]].info()"
   ]
  },
  {
   "cell_type": "markdown",
   "metadata": {},
   "source": [
    "## Weighting Variables"
   ]
  },
  {
   "cell_type": "code",
   "execution_count": 105,
   "metadata": {},
   "outputs": [
    {
     "name": "stdout",
     "output_type": "stream",
     "text": [
      "<class 'pandas.core.frame.DataFrame'>\n",
      "RangeIndex: 433323 entries, 0 to 433322\n",
      "Data columns (total 6 columns):\n",
      " #   Column     Non-Null Count   Dtype  \n",
      "---  ------     --------------   -----  \n",
      " 0   MSCODE     85527 non-null   float64\n",
      " 1   _STSTR     433323 non-null  int64  \n",
      " 2   _STRWT     433323 non-null  float64\n",
      " 3   _RAWRAKE   433323 non-null  float64\n",
      " 4   _WT2RAKE   433323 non-null  float64\n",
      " 5   _IMPRACE   433323 non-null  int64  \n",
      "dtypes: float64(4), int64(2)\n",
      "memory usage: 19.8 MB\n"
     ]
    }
   ],
   "source": [
    "responses[responses.columns[258:264]].info()"
   ]
  },
  {
   "cell_type": "markdown",
   "metadata": {},
   "source": [
    "## Child Demographic Variables"
   ]
  },
  {
   "cell_type": "code",
   "execution_count": 106,
   "metadata": {},
   "outputs": [
    {
     "name": "stdout",
     "output_type": "stream",
     "text": [
      "<class 'pandas.core.frame.DataFrame'>\n",
      "RangeIndex: 433323 entries, 0 to 433322\n",
      "Data columns (total 4 columns):\n",
      " #   Column     Non-Null Count   Dtype  \n",
      "---  ------     --------------   -----  \n",
      " 0   _CHISPNC   277030 non-null  float64\n",
      " 1   _CRACE1    51210 non-null   float64\n",
      " 2   CAGEG      41925 non-null   float64\n",
      " 3   _CLLCPWT   49541 non-null   float64\n",
      "dtypes: float64(4)\n",
      "memory usage: 13.2 MB\n"
     ]
    }
   ],
   "source": [
    "responses[responses.columns[264:268]].info()"
   ]
  },
  {
   "cell_type": "markdown",
   "metadata": {},
   "source": [
    "## Weighting Variables"
   ]
  },
  {
   "cell_type": "code",
   "execution_count": 107,
   "metadata": {},
   "outputs": [
    {
     "name": "stdout",
     "output_type": "stream",
     "text": [
      "<class 'pandas.core.frame.DataFrame'>\n",
      "RangeIndex: 433323 entries, 0 to 433322\n",
      "Data columns (total 4 columns):\n",
      " #   Column     Non-Null Count   Dtype  \n",
      "---  ------     --------------   -----  \n",
      " 0   _DUALUSE   433323 non-null  int64  \n",
      " 1   _DUALCOR   144162 non-null  float64\n",
      " 2   _LLCPWT2   433323 non-null  float64\n",
      " 3   _LLCPWT    433323 non-null  float64\n",
      "dtypes: float64(3), int64(1)\n",
      "memory usage: 13.2 MB\n"
     ]
    }
   ],
   "source": [
    "responses[responses.columns[268:272]].info()"
   ]
  },
  {
   "cell_type": "markdown",
   "metadata": {},
   "source": [
    "## Calculated Variables"
   ]
  },
  {
   "cell_type": "code",
   "execution_count": 109,
   "metadata": {},
   "outputs": [
    {
     "name": "stdout",
     "output_type": "stream",
     "text": [
      "<class 'pandas.core.frame.DataFrame'>\n",
      "RangeIndex: 433323 entries, 0 to 433322\n",
      "Data columns (total 42 columns):\n",
      " #   Column     Non-Null Count   Dtype  \n",
      "---  ------     --------------   -----  \n",
      " 0   _RFHLTH    433323 non-null  int64  \n",
      " 1   _PHYS14D   433323 non-null  int64  \n",
      " 2   _MENT14D   433323 non-null  int64  \n",
      " 3   _HLTHPL1   433323 non-null  int64  \n",
      " 4   _HCVU653   433323 non-null  int64  \n",
      " 5   _TOTINDA   433323 non-null  int64  \n",
      " 6   METVL12_   323041 non-null  float64\n",
      " 7   METVL22_   228757 non-null  float64\n",
      " 8   MAXVO21_   433323 non-null  int64  \n",
      " 9   FC601_     433323 non-null  int64  \n",
      " 10  ACTIN13_   317417 non-null  float64\n",
      " 11  ACTIN23_   225086 non-null  float64\n",
      " 12  PADUR1_    315638 non-null  float64\n",
      " 13  PADUR2_    223535 non-null  float64\n",
      " 14  PAFREQ1_   316148 non-null  float64\n",
      " 15  PAFREQ2_   224522 non-null  float64\n",
      " 16  _MINAC12   310832 non-null  float64\n",
      " 17  _MINAC22   310052 non-null  float64\n",
      " 18  STRFREQ_   419150 non-null  float64\n",
      " 19  PAMISS3_   433323 non-null  int64  \n",
      " 20  PAMIN13_   305711 non-null  float64\n",
      " 21  PAMIN23_   217736 non-null  float64\n",
      " 22  PA3MIN_    310074 non-null  float64\n",
      " 23  PAVIG13_   312636 non-null  float64\n",
      " 24  PAVIG23_   221455 non-null  float64\n",
      " 25  PA3VIGM_   314603 non-null  float64\n",
      " 26  _PACAT3    433323 non-null  int64  \n",
      " 27  _PAINDX3   433323 non-null  int64  \n",
      " 28  _PA150R4   433323 non-null  int64  \n",
      " 29  _PA300R4   433323 non-null  int64  \n",
      " 30  _PA30023   433323 non-null  int64  \n",
      " 31  _PASTRNG   433323 non-null  int64  \n",
      " 32  _PAREC3    433323 non-null  int64  \n",
      " 33  _PASTAE3   433323 non-null  int64  \n",
      " 34  _RFHYPE6   433323 non-null  int64  \n",
      " 35  _CHOLCH3   433323 non-null  int64  \n",
      " 36  _RFCHOL3   381512 non-null  float64\n",
      " 37  _MICHD     428738 non-null  float64\n",
      " 38  _LTASTH1   433323 non-null  int64  \n",
      " 39  _CASTHM1   433323 non-null  int64  \n",
      " 40  _ASTHMS1   433323 non-null  int64  \n",
      " 41  _DRDXAR2   430763 non-null  float64\n",
      "dtypes: float64(20), int64(22)\n",
      "memory usage: 138.9 MB\n"
     ]
    }
   ],
   "source": [
    "responses[responses.columns[272:314]].info()"
   ]
  },
  {
   "cell_type": "markdown",
   "metadata": {},
   "source": [
    "## Calculated Race Variables"
   ]
  },
  {
   "cell_type": "code",
   "execution_count": 111,
   "metadata": {},
   "outputs": [
    {
     "name": "stdout",
     "output_type": "stream",
     "text": [
      "<class 'pandas.core.frame.DataFrame'>\n",
      "RangeIndex: 433323 entries, 0 to 433322\n",
      "Data columns (total 6 columns):\n",
      " #   Column     Non-Null Count   Dtype  \n",
      "---  ------     --------------   -----  \n",
      " 0   _MRACE1    433069 non-null  float64\n",
      " 1   _HISPANC   433323 non-null  int64  \n",
      " 2   _RACE      433237 non-null  float64\n",
      " 3   _RACEG21   433237 non-null  float64\n",
      " 4   _RACEGR3   433237 non-null  float64\n",
      " 5   _RACEPRV   433237 non-null  float64\n",
      "dtypes: float64(5), int64(1)\n",
      "memory usage: 19.8 MB\n"
     ]
    }
   ],
   "source": [
    "responses[responses.columns[314:320]].info()"
   ]
  },
  {
   "cell_type": "markdown",
   "metadata": {},
   "source": [
    "## Calculated Variables"
   ]
  },
  {
   "cell_type": "code",
   "execution_count": 112,
   "metadata": {},
   "outputs": [
    {
     "name": "stdout",
     "output_type": "stream",
     "text": [
      "<class 'pandas.core.frame.DataFrame'>\n",
      "RangeIndex: 433323 entries, 0 to 433322\n",
      "Data columns (total 28 columns):\n",
      " #   Column     Non-Null Count   Dtype  \n",
      "---  ------     --------------   -----  \n",
      " 0   _SEX       433323 non-null  int64  \n",
      " 1   _AGEG5YR   433323 non-null  int64  \n",
      " 2   _AGE65YR   433323 non-null  int64  \n",
      " 3   _AGE80     433323 non-null  int64  \n",
      " 4   _AGE_G     433323 non-null  int64  \n",
      " 5   HTIN4      405324 non-null  float64\n",
      " 6   HTM4       411182 non-null  float64\n",
      " 7   WTKG3      399172 non-null  float64\n",
      " 8   _BMI5      392788 non-null  float64\n",
      " 9   _BMI5CAT   392788 non-null  float64\n",
      " 10  _RFBMI5    433323 non-null  int64  \n",
      " 11  _CHLDCNT   433323 non-null  int64  \n",
      " 12  _EDUCAG    433323 non-null  int64  \n",
      " 13  _INCOMG1   433323 non-null  int64  \n",
      " 14  _SMOKER3   433323 non-null  int64  \n",
      " 15  _RFSMOK3   433323 non-null  int64  \n",
      " 16  _CURECI2   433323 non-null  int64  \n",
      " 17  DRNKANY6   433323 non-null  int64  \n",
      " 18  DROCDY4_   433323 non-null  int64  \n",
      " 19  _RFBING6   433323 non-null  int64  \n",
      " 20  _DRNKWK2   433323 non-null  int64  \n",
      " 21  _RFDRHV8   433323 non-null  int64  \n",
      " 22  _FLSHOT7   170823 non-null  float64\n",
      " 23  _PNEUMO3   170823 non-null  float64\n",
      " 24  _AIDTST4   403710 non-null  float64\n",
      " 25  _RFSEAT2   433323 non-null  int64  \n",
      " 26  _RFSEAT3   433323 non-null  int64  \n",
      " 27  _DRNKDRV   433323 non-null  int64  \n",
      "dtypes: float64(8), int64(20)\n",
      "memory usage: 92.6 MB\n"
     ]
    }
   ],
   "source": [
    "responses[responses.columns[320:]].info()"
   ]
  },
  {
   "cell_type": "code",
   "execution_count": null,
   "metadata": {},
   "outputs": [],
   "source": []
  }
 ],
 "metadata": {
  "kernelspec": {
   "display_name": "base",
   "language": "python",
   "name": "python3"
  },
  "language_info": {
   "codemirror_mode": {
    "name": "ipython",
    "version": 3
   },
   "file_extension": ".py",
   "mimetype": "text/x-python",
   "name": "python",
   "nbconvert_exporter": "python",
   "pygments_lexer": "ipython3",
   "version": "3.11.5"
  }
 },
 "nbformat": 4,
 "nbformat_minor": 2
}
