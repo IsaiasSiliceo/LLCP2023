{
 "cells": [
  {
   "cell_type": "code",
   "execution_count": 11,
   "metadata": {
    "vscode": {
     "languageId": "r"
    }
   },
   "outputs": [],
   "source": [
    "library(bestglm)\n",
    "\n",
    "PATH <- '/home/chay/LLCP2023ASC/'"
   ]
  },
  {
   "cell_type": "code",
   "execution_count": 12,
   "metadata": {
    "vscode": {
     "languageId": "r"
    }
   },
   "outputs": [
    {
     "name": "stdout",
     "output_type": "stream",
     "text": [
      "  X_RFHLTH X_PHYS14D X_MENT14D FC601_ X_PACAT3 X_PAINDX3 X_PASTRNG X_RFHYPE6\n",
      "1        1         1         1    315        4         2         2         2\n",
      "2        1         1         1    309        1         1         2         2\n",
      "3        2         2         2    227        9         9         2         2\n",
      "4        1         2         1    328        9         1         2         1\n",
      "5        2         1         1    341        1         1         2         2\n",
      "6        1         2         2    430        9         9         2         2\n",
      "  X_CHOLCH3 X_RFCHOL3 X_MICHD X_LTASTH1 X_CASTHM1 X_ASTHMS1 X_DRDXAR2 X_RACE\n",
      "1         1         1       2         1         1         3         2      1\n",
      "2         1         2       2         1         1         3         1      1\n",
      "3         1         2       2         2         2         1         1      2\n",
      "4         1         1       2         1         1         3         1      1\n",
      "5         1         1       2         1         1         3         1      1\n",
      "6         1         2       2         1         1         3         2      2\n",
      "  X_SEX X_AGEG5YR HTM4 WTKG3 X_RFBMI5 X_SMOKER3 X_CURECI2 X_DRNKWK2 X_AIDTST4\n",
      "1     2        13  160  7802        2         4         1         0         2\n",
      "2     2        13  145  5987        2         4         1         0         2\n",
      "3     2        13  163  5897        1         3         1         0         2\n",
      "4     2        12  168  7711        2         4         1         0         1\n",
      "5     2        12  173  7711        2         4         1        47         2\n",
      "6     2         9  157  7484        2         4         1       233         1\n"
     ]
    }
   ],
   "source": [
    "# Lectura de datos\n",
    "DataClean <- read.csv(paste(PATH,\"DataCleaned.csv\",sep=''))\n",
    "print(head(DataClean))"
   ]
  },
  {
   "cell_type": "markdown",
   "metadata": {},
   "source": [
    "# Imputar después"
   ]
  },
  {
   "cell_type": "code",
   "execution_count": null,
   "metadata": {
    "vscode": {
     "languageId": "r"
    }
   },
   "outputs": [],
   "source": []
  },
  {
   "cell_type": "markdown",
   "metadata": {},
   "source": [
    "# Datos Completos"
   ]
  },
  {
   "cell_type": "code",
   "execution_count": 14,
   "metadata": {
    "vscode": {
     "languageId": "r"
    }
   },
   "outputs": [
    {
     "data": {
      "text/html": [
       "<style>\n",
       ".list-inline {list-style: none; margin:0; padding: 0}\n",
       ".list-inline>li {display: inline-block}\n",
       ".list-inline>li:not(:last-child)::after {content: \"\\00b7\"; padding: 0 .5ex}\n",
       "</style>\n",
       "<ol class=list-inline><li>331380</li><li>25</li></ol>\n"
      ],
      "text/latex": [
       "\\begin{enumerate*}\n",
       "\\item 331380\n",
       "\\item 25\n",
       "\\end{enumerate*}\n"
      ],
      "text/markdown": [
       "1. 331380\n",
       "2. 25\n",
       "\n",
       "\n"
      ],
      "text/plain": [
       "[1] 331380     25"
      ]
     },
     "metadata": {},
     "output_type": "display_data"
    }
   ],
   "source": [
    "DataCom <- na.omit(DataClean)\n",
    "dim(DataCom)  # Dimensiones del nuevo dataset"
   ]
  },
  {
   "cell_type": "code",
   "execution_count": 35,
   "metadata": {
    "vscode": {
     "languageId": "r"
    }
   },
   "outputs": [
    {
     "data": {
      "text/html": [
       "<style>\n",
       ".list-inline {list-style: none; margin:0; padding: 0}\n",
       ".list-inline>li {display: inline-block}\n",
       ".list-inline>li:not(:last-child)::after {content: \"\\00b7\"; padding: 0 .5ex}\n",
       "</style>\n",
       "<ol class=list-inline><li>2</li><li>1</li></ol>\n"
      ],
      "text/latex": [
       "\\begin{enumerate*}\n",
       "\\item 2\n",
       "\\item 1\n",
       "\\end{enumerate*}\n"
      ],
      "text/markdown": [
       "1. 2\n",
       "2. 1\n",
       "\n",
       "\n"
      ],
      "text/plain": [
       "[1] 2 1"
      ]
     },
     "metadata": {},
     "output_type": "display_data"
    },
    {
     "data": {
      "text/html": [
       "<style>\n",
       ".list-inline {list-style: none; margin:0; padding: 0}\n",
       ".list-inline>li {display: inline-block}\n",
       ".list-inline>li:not(:last-child)::after {content: \"\\00b7\"; padding: 0 .5ex}\n",
       "</style>\n",
       "<ol class=list-inline><li>0</li><li>1</li></ol>\n"
      ],
      "text/latex": [
       "\\begin{enumerate*}\n",
       "\\item 0\n",
       "\\item 1\n",
       "\\end{enumerate*}\n"
      ],
      "text/markdown": [
       "1. 0\n",
       "2. 1\n",
       "\n",
       "\n"
      ],
      "text/plain": [
       "[1] 0 1"
      ]
     },
     "metadata": {},
     "output_type": "display_data"
    }
   ],
   "source": [
    "# Nuestra variable de respuesta puede ser 1 o 2\n",
    "unique(DataCom$X_MICHD)\n",
    "# Se reemplaza por 1: Sí reporta un problema, 0: no lo reporta\n",
    "DataCom$X_MICHD <- replace(DataCom$X_MICHD, DataCom$X_MICHD == 2, 0)\n",
    "# Nuestra variable de respuesta puede ser 1 o 0\n",
    "unique(DataCom$X_MICHD)"
   ]
  },
  {
   "cell_type": "markdown",
   "metadata": {},
   "source": [
    "## Hacemos una partición de los datos en Entrenamiento y validación"
   ]
  },
  {
   "cell_type": "code",
   "execution_count": 36,
   "metadata": {
    "vscode": {
     "languageId": "r"
    }
   },
   "outputs": [
    {
     "name": "stdout",
     "output_type": "stream",
     "text": [
      "Train set size:  248535 \n",
      "Test set size:  82845 \n"
     ]
    }
   ],
   "source": [
    "set.seed(23)\n",
    "\n",
    "# b) Divide tu conjunto de DataCom en conjunto de entrenamiento en 75% entrenamiento y 25 % prueba\n",
    "len_train <- 0.75*length(DataCom$X_RFHLTH)\n",
    "# Hacemos una selección aleatoria de índices\n",
    "train_indices <- sample(seq_len(nrow(DataCom)), size=len_train)\n",
    "\n",
    "# Dividimos en entrenamiento y prueba\n",
    "train <- DataCom[train_indices,]\n",
    "test <- DataCom[-train_indices,]\n",
    "cat(\"Train set size: \",nrow(train),'\\n')\n",
    "cat('Test set size: ',nrow(test),'\\n')"
   ]
  },
  {
   "cell_type": "code",
   "execution_count": null,
   "metadata": {
    "vscode": {
     "languageId": "r"
    }
   },
   "outputs": [],
   "source": []
  },
  {
   "cell_type": "code",
   "execution_count": null,
   "metadata": {
    "vscode": {
     "languageId": "r"
    }
   },
   "outputs": [],
   "source": []
  }
 ],
 "metadata": {
  "kernelspec": {
   "display_name": "R",
   "language": "R",
   "name": "ir"
  },
  "language_info": {
   "codemirror_mode": "r",
   "file_extension": ".r",
   "mimetype": "text/x-r-source",
   "name": "R",
   "pygments_lexer": "r",
   "version": "4.4.1"
  }
 },
 "nbformat": 4,
 "nbformat_minor": 2
}
